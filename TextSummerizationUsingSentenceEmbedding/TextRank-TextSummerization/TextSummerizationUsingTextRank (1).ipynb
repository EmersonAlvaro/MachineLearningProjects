{
 "cells": [
  {
   "cell_type": "code",
   "execution_count": 106,
   "metadata": {},
   "outputs": [],
   "source": [
    "# It’s an innovative news app that converts news articles into a 60-word summary\n",
    "#  It is a process of generating a concise and meaningful summary of text from multiple text resources such as books, news articles, blog posts, research papers, emails, and tweets\n",
    "## Automatic Text Summarization used features such as word frequency and phrase frequency to extract important sentences from the text for summarization purposes."
   ]
  },
  {
   "cell_type": "code",
   "execution_count": 107,
   "metadata": {},
   "outputs": [],
   "source": [
    "#  presence of cue words, words used in the title appearing in the text, and the location of sentences, to extract significant\n",
    "# sentences for text summarization"
   ]
  },
  {
   "cell_type": "code",
   "execution_count": 108,
   "metadata": {},
   "outputs": [],
   "source": [
    "#  TextRank algorithm, there’s another algorithm which we should become familiar with – the PageRank algorithm."
   ]
  },
  {
   "cell_type": "code",
   "execution_count": 109,
   "metadata": {},
   "outputs": [],
   "source": [
    "## PageRank is used for ranking web pages in online search results..."
   ]
  },
  {
   "cell_type": "code",
   "execution_count": 110,
   "metadata": {},
   "outputs": [],
   "source": [
    "## PageRank score. This score is the probability of a user visiting that page."
   ]
  },
  {
   "cell_type": "code",
   "execution_count": 111,
   "metadata": {},
   "outputs": [],
   "source": [
    "#Each element of this matrix denotes the probability of a user transitioning from one web page to another. For example, the highlighted cell below contains the probability of transition from w1 to w2."
   ]
  },
  {
   "cell_type": "code",
   "execution_count": 112,
   "metadata": {},
   "outputs": [
    {
     "name": "stdout",
     "output_type": "stream",
     "text": [
      "[nltk_data] Downloading package punkt to\n",
      "[nltk_data]     C:\\Users\\sbha69\\AppData\\Roaming\\nltk_data...\n",
      "[nltk_data]   Package punkt is already up-to-date!\n"
     ]
    }
   ],
   "source": [
    "import numpy as np\n",
    "import pandas as pd\n",
    "import nltk\n",
    "nltk.download('punkt') # one time execution\n",
    "import re"
   ]
  },
  {
   "cell_type": "code",
   "execution_count": 113,
   "metadata": {},
   "outputs": [],
   "source": [
    "## Read the dataset...\n",
    "TextArticle = pd.read_csv(\"D:\\\\DataScience\\\\TextSummerizationUsingSentenceEmbedding\\\\TextRank-TextSummerization\\\\tennis_articles_v4.csv\")"
   ]
  },
  {
   "cell_type": "code",
   "execution_count": 114,
   "metadata": {},
   "outputs": [
    {
     "data": {
      "text/html": [
       "<div>\n",
       "<style scoped>\n",
       "    .dataframe tbody tr th:only-of-type {\n",
       "        vertical-align: middle;\n",
       "    }\n",
       "\n",
       "    .dataframe tbody tr th {\n",
       "        vertical-align: top;\n",
       "    }\n",
       "\n",
       "    .dataframe thead th {\n",
       "        text-align: right;\n",
       "    }\n",
       "</style>\n",
       "<table border=\"1\" class=\"dataframe\">\n",
       "  <thead>\n",
       "    <tr style=\"text-align: right;\">\n",
       "      <th></th>\n",
       "      <th>article_id</th>\n",
       "      <th>article_text</th>\n",
       "      <th>source</th>\n",
       "    </tr>\n",
       "  </thead>\n",
       "  <tbody>\n",
       "    <tr>\n",
       "      <th>0</th>\n",
       "      <td>1</td>\n",
       "      <td>Maria Sharapova has basically no friends as te...</td>\n",
       "      <td>https://www.tennisworldusa.org/tennis/news/Mar...</td>\n",
       "    </tr>\n",
       "    <tr>\n",
       "      <th>1</th>\n",
       "      <td>2</td>\n",
       "      <td>BASEL, Switzerland (AP), Roger Federer advance...</td>\n",
       "      <td>http://www.tennis.com/pro-game/2018/10/copil-s...</td>\n",
       "    </tr>\n",
       "    <tr>\n",
       "      <th>2</th>\n",
       "      <td>3</td>\n",
       "      <td>Roger Federer has revealed that organisers of ...</td>\n",
       "      <td>https://scroll.in/field/899938/tennis-roger-fe...</td>\n",
       "    </tr>\n",
       "    <tr>\n",
       "      <th>3</th>\n",
       "      <td>4</td>\n",
       "      <td>Kei Nishikori will try to end his long losing ...</td>\n",
       "      <td>http://www.tennis.com/pro-game/2018/10/nishiko...</td>\n",
       "    </tr>\n",
       "    <tr>\n",
       "      <th>4</th>\n",
       "      <td>5</td>\n",
       "      <td>Federer, 37, first broke through on tour over ...</td>\n",
       "      <td>https://www.express.co.uk/sport/tennis/1036101...</td>\n",
       "    </tr>\n",
       "  </tbody>\n",
       "</table>\n",
       "</div>"
      ],
      "text/plain": [
       "   article_id                                       article_text  \\\n",
       "0           1  Maria Sharapova has basically no friends as te...   \n",
       "1           2  BASEL, Switzerland (AP), Roger Federer advance...   \n",
       "2           3  Roger Federer has revealed that organisers of ...   \n",
       "3           4  Kei Nishikori will try to end his long losing ...   \n",
       "4           5  Federer, 37, first broke through on tour over ...   \n",
       "\n",
       "                                              source  \n",
       "0  https://www.tennisworldusa.org/tennis/news/Mar...  \n",
       "1  http://www.tennis.com/pro-game/2018/10/copil-s...  \n",
       "2  https://scroll.in/field/899938/tennis-roger-fe...  \n",
       "3  http://www.tennis.com/pro-game/2018/10/nishiko...  \n",
       "4  https://www.express.co.uk/sport/tennis/1036101...  "
      ]
     },
     "execution_count": 114,
     "metadata": {},
     "output_type": "execute_result"
    }
   ],
   "source": [
    "## Inspect the data..\n",
    "TextArticle.head()"
   ]
  },
  {
   "cell_type": "code",
   "execution_count": 115,
   "metadata": {},
   "outputs": [
    {
     "data": {
      "text/plain": [
       "\"Maria Sharapova has basically no friends as tennis players on the WTA Tour. The Russian player has no problems in openly speaking about it and in a recent interview she said: 'I don't really hide any feelings too much. I think everyone knows this is my job here. When I'm on the courts or when I'm on the court playing, I'm a competitor and I want to beat every single person whether they're in the locker room or across the net.So I'm not the one to strike up a conversation about the weather and know that in the next few minutes I have to go and try to win a tennis match. I'm a pretty competitive girl. I say my hellos, but I'm not sending any players flowers as well. Uhm, I'm not really friendly or close to many players. I have not a lot of friends away from the courts.' When she said she is not really close to a lot of players, is that something strategic that she is doing? Is it different on the men's tour than the women's tour? 'No, not at all. I think just because you're in the same sport doesn't mean that you have to be friends with everyone just because you're categorized, you're a tennis player, so you're going to get along with tennis players. I think every person has different interests. I have friends that have completely different jobs and interests, and I've met them in very different parts of my life. I think everyone just thinks because we're tennis players we should be the greatest of friends. But ultimately tennis is just a very small part of what we do. There are so many other things that we're interested in, that we do.'\""
      ]
     },
     "execution_count": 115,
     "metadata": {},
     "output_type": "execute_result"
    }
   ],
   "source": [
    "TextArticle['article_text'][0]"
   ]
  },
  {
   "cell_type": "code",
   "execution_count": 116,
   "metadata": {},
   "outputs": [
    {
     "data": {
      "text/plain": [
       "\"BASEL, Switzerland (AP), Roger Federer advanced to the 14th Swiss Indoors final of his career by beating seventh-seeded Daniil Medvedev 6-1, 6-4 on Saturday. Seeking a ninth title at his hometown event, and a 99th overall, Federer will play 93th-ranked Marius Copil on Sunday. Federer dominated the 20th-ranked Medvedev and had his first match-point chance to break serve again at 5-1. He then dropped his serve to love, and let another match point slip in Medvedev's next service game by netting a backhand. He clinched on his fourth chance when Medvedev netted from the baseline. Copil upset expectations of a Federer final against Alexander Zverev in a 6-3, 6-7 (6), 6-4 win over the fifth-ranked German in the earlier semifinal. The Romanian aims for a first title after arriving at Basel without a career win over a top-10 opponent. Copil has two after also beating No. 6 Marin Cilic in the second round. Copil fired 26 aces past Zverev and never dropped serve, clinching after 2 1/2 hours with a forehand volley winner to break Zverev for the second time in the semifinal. He came through two rounds of qualifying last weekend to reach the Basel main draw, including beating Zverev's older brother, Mischa. Federer had an easier time than in his only previous match against Medvedev, a three-setter at Shanghai two weeks ago.\""
      ]
     },
     "execution_count": 116,
     "metadata": {},
     "output_type": "execute_result"
    }
   ],
   "source": [
    "TextArticle['article_text'][1]"
   ]
  },
  {
   "cell_type": "code",
   "execution_count": 117,
   "metadata": {},
   "outputs": [
    {
     "data": {
      "text/plain": [
       "'Roger Federer has revealed that organisers of the re-launched and condensed Davis Cup gave him three days to decide if he would commit to the controversial competition. Speaking at the Swiss Indoors tournament where he will play in Sundays final against Romanian qualifier Marius Copil, the world number three said that given the impossibly short time frame to make a decision, he opted out of any commitment. \"They only left me three days to decide\", Federer said. \"I didn\\'t to have time to consult with all the people I had to consult. \"I could not make a decision in that time, so I told them to do what they wanted.\" The 20-time Grand Slam champion has voiced doubts about the wisdom of the one-week format to be introduced by organisers Kosmos, who have promised the International Tennis Federation up to $3 billion in prize money over the next quarter-century. The competition is set to feature 18 countries in the November 18-24 finals in Madrid next year, and will replace the classic home-and-away ties played four times per year for decades. Kosmos is headed by Barcelona footballer Gerard Pique, who is hoping fellow Spaniard Rafael Nadal will play in the upcoming event. Novak Djokovic has said he will give precedence to the ATP\\'s intended re-launch of the defunct World Team Cup in January 2020, at various Australian venues. Major players feel that a big event in late November combined with one in January before the Australian Open will mean too much tennis and too little rest. Federer said earlier this month in Shanghai in that his chances of playing the Davis Cup were all but non-existent. \"I highly doubt it, of course. We will see what happens,\" he said. \"I do not think this was designed for me, anyhow. This was designed for the future generation of players.\" Argentina and Britain received wild cards to the new-look event, and will compete along with the four 2018 semi-finalists and the 12 teams who win qualifying rounds next February. \"I don\\'t like being under that kind of pressure,\" Federer said of the deadline Kosmos handed him.'"
      ]
     },
     "execution_count": 117,
     "metadata": {},
     "output_type": "execute_result"
    }
   ],
   "source": [
    "TextArticle['article_text'][2]"
   ]
  },
  {
   "cell_type": "code",
   "execution_count": 118,
   "metadata": {},
   "outputs": [],
   "source": [
    "## Split into text individual sentences...\n",
    "from nltk.tokenize import sent_tokenize\n",
    "sentences = []\n",
    "for s in TextArticle['article_text']:\n",
    "    sentences.append(sent_tokenize(s))\n",
    "\n",
    "sentences = [y for x in sentences for y in x] # flatten list"
   ]
  },
  {
   "cell_type": "code",
   "execution_count": 119,
   "metadata": {},
   "outputs": [
    {
     "data": {
      "text/plain": [
       "['Maria Sharapova has basically no friends as tennis players on the WTA Tour.',\n",
       " \"The Russian player has no problems in openly speaking about it and in a recent interview she said: 'I don't really hide any feelings too much.\",\n",
       " 'I think everyone knows this is my job here.',\n",
       " \"When I'm on the courts or when I'm on the court playing, I'm a competitor and I want to beat every single person whether they're in the locker room or across the net.So I'm not the one to strike up a conversation about the weather and know that in the next few minutes I have to go and try to win a tennis match.\",\n",
       " \"I'm a pretty competitive girl.\"]"
      ]
     },
     "execution_count": 119,
     "metadata": {},
     "output_type": "execute_result"
    }
   ],
   "source": [
    "sentences[:5]"
   ]
  },
  {
   "cell_type": "code",
   "execution_count": 120,
   "metadata": {},
   "outputs": [],
   "source": [
    "## Download GloVe Word Embeddings\n",
    "#GloVe word embeddings are vector representation of words. These word embeddings will be used to create vectors for our \n",
    "#sentences. We could have also used the Bag-of-Words or TF-IDF approaches to create features for our sentences, but these\n",
    "#methods ignore the order of the words (and the number of features is usually pretty large)."
   ]
  },
  {
   "cell_type": "code",
   "execution_count": 121,
   "metadata": {},
   "outputs": [],
   "source": [
    "# D:\\DataScience\\TextSummerizationUsingSentenceEmbedding\\TextRank-TextSummerization\\Globe6B"
   ]
  },
  {
   "cell_type": "code",
   "execution_count": 122,
   "metadata": {},
   "outputs": [],
   "source": [
    "# Extract word vectors\n",
    "word_embeddings = {}\n",
    "f = open('D:\\DataScience\\TextSummerizationUsingSentenceEmbedding\\TextRank-TextSummerization\\Globe6B\\glove.6B.100d.txt', encoding='utf-8')\n",
    "for line in f:\n",
    "    values = line.split()\n",
    "    word = values[0]\n",
    "    coefs = np.asarray(values[1:], dtype='float32')\n",
    "    word_embeddings[word] = coefs\n",
    "f.close()"
   ]
  },
  {
   "cell_type": "code",
   "execution_count": 123,
   "metadata": {},
   "outputs": [
    {
     "data": {
      "text/plain": [
       "400000"
      ]
     },
     "execution_count": 123,
     "metadata": {},
     "output_type": "execute_result"
    }
   ],
   "source": [
    "len(word_embeddings)\n",
    "# We now have word vectors for 400,000 different terms stored in the dictionary – ‘word_embeddings’."
   ]
  },
  {
   "cell_type": "code",
   "execution_count": 124,
   "metadata": {},
   "outputs": [],
   "source": [
    "# Text Preprocessing\n",
    "# remove punctuations, numbers and special characters\n",
    "clean_sentences = pd.Series(sentences).str.replace(\"[^a-zA-Z]\", \" \")\n",
    "\n",
    "# make alphabets lowercase\n",
    "clean_sentences = [s.lower() for s in clean_sentences]"
   ]
  },
  {
   "cell_type": "code",
   "execution_count": 125,
   "metadata": {},
   "outputs": [
    {
     "name": "stdout",
     "output_type": "stream",
     "text": [
      "[nltk_data] Downloading package stopwords to\n",
      "[nltk_data]     C:\\Users\\sbha69\\AppData\\Roaming\\nltk_data...\n",
      "[nltk_data]   Package stopwords is already up-to-date!\n"
     ]
    },
    {
     "data": {
      "text/plain": [
       "True"
      ]
     },
     "execution_count": 125,
     "metadata": {},
     "output_type": "execute_result"
    }
   ],
   "source": [
    "# Get rid of the stopwords (commonly used words of a language – is, am, the, of, in, etc.) present in the sentences. If you have not downloaded nltk-stopwords, then execute the following line of code:\n",
    "nltk.download('stopwords')"
   ]
  },
  {
   "cell_type": "code",
   "execution_count": 126,
   "metadata": {},
   "outputs": [],
   "source": [
    "from nltk.corpus import stopwords\n",
    "stop_words = stopwords.words('english')"
   ]
  },
  {
   "cell_type": "code",
   "execution_count": 127,
   "metadata": {},
   "outputs": [],
   "source": [
    "# Let’s define a function to remove these stopwords from our dataset.\n",
    "# function to remove stopwords\n",
    "def remove_stopwords(sen):\n",
    "    sen_new = \" \".join([i for i in sen if i not in stop_words])\n",
    "    return sen_new"
   ]
  },
  {
   "cell_type": "code",
   "execution_count": 128,
   "metadata": {},
   "outputs": [],
   "source": [
    "# remove stopwords from the sentences\n",
    "clean_sentences = [remove_stopwords(r.split()) for r in clean_sentences]\n",
    "# We will use clean_sentences to create vectors for sentences in our data with the help of the GloVe word vectors."
   ]
  },
  {
   "cell_type": "code",
   "execution_count": 129,
   "metadata": {},
   "outputs": [
    {
     "data": {
      "text/plain": [
       "['maria sharapova basically friends tennis players wta tour',\n",
       " 'russian player problems openly speaking recent interview said really hide feelings much',\n",
       " 'think everyone knows job',\n",
       " 'courts court playing competitor want beat every single person whether locker room across net one strike conversation weather know next minutes go try win tennis match',\n",
       " 'pretty competitive girl',\n",
       " 'say hellos sending players flowers well',\n",
       " 'uhm really friendly close many players',\n",
       " 'lot friends away courts',\n",
       " 'said really close lot players something strategic',\n",
       " 'different men tour women tour',\n",
       " '',\n",
       " 'think sport mean friends everyone categorized tennis player going get along tennis players',\n",
       " 'think every person different interests',\n",
       " 'friends completely different jobs interests met different parts life',\n",
       " 'think everyone thinks tennis players greatest friends',\n",
       " 'ultimately tennis small part',\n",
       " 'many things interested',\n",
       " 'basel switzerland ap roger federer advanced th swiss indoors final career beating seventh seeded daniil medvedev saturday',\n",
       " 'seeking ninth title hometown event th overall federer play th ranked marius copil sunday',\n",
       " 'federer dominated th ranked medvedev first match point chance break serve',\n",
       " 'dropped serve love let another match point slip medvedev next service game netting backhand',\n",
       " 'clinched fourth chance medvedev netted baseline',\n",
       " 'copil upset expectations federer final alexander zverev win fifth ranked german earlier semifinal',\n",
       " 'romanian aims first title arriving basel without career win top opponent',\n",
       " 'copil two also beating',\n",
       " 'marin cilic second round',\n",
       " 'copil fired aces past zverev never dropped serve clinching hours forehand volley winner break zverev second time semifinal',\n",
       " 'came two rounds qualifying last weekend reach basel main draw including beating zverev older brother mischa',\n",
       " 'federer easier time previous match medvedev three setter shanghai two weeks ago',\n",
       " 'roger federer revealed organisers launched condensed davis cup gave three days decide would commit controversial competition',\n",
       " 'speaking swiss indoors tournament play sundays final romanian qualifier marius copil world number three said given impossibly short time frame make decision opted commitment',\n",
       " 'left three days decide federer said',\n",
       " 'time consult people consult',\n",
       " 'could make decision time told wanted',\n",
       " 'time grand slam champion voiced doubts wisdom one week format introduced organisers kosmos promised international tennis federation billion prize money next quarter century',\n",
       " 'competition set feature countries november finals madrid next year replace classic home away ties played four times per year decades',\n",
       " 'kosmos headed barcelona footballer gerard pique hoping fellow spaniard rafael nadal play upcoming event',\n",
       " 'novak djokovic said give precedence atp intended launch defunct world team cup january various australian venues',\n",
       " 'major players feel big event late november combined one january australian open mean much tennis little rest',\n",
       " 'federer said earlier month shanghai chances playing davis cup non existent',\n",
       " 'highly doubt course',\n",
       " 'see happens said',\n",
       " 'think designed anyhow',\n",
       " 'designed future generation players',\n",
       " 'argentina britain received wild cards new look event compete along four semi finalists teams win qualifying rounds next february',\n",
       " 'like kind pressure federer said deadline kosmos handed',\n",
       " 'kei nishikori try end long losing streak atp finals kevin anderson go second title year erste bank open sunday',\n",
       " 'fifth seeded nishikori reached third final beating mikhail kukushkin kazakhstan semifinals',\n",
       " 'winner atp events nishikori triumphed since winning memphis february',\n",
       " 'lost eight straight finals since',\n",
       " 'second seeded anderson defeated fernando verdasco',\n",
       " 'anderson shot fifth career title second year winning new york february',\n",
       " 'nishikori leads anderson career matchups south african previous meeting year',\n",
       " 'victory sunday anderson qualify atp finals',\n",
       " 'currently ninth place nishikori win could move within points cut eight man event london next month',\n",
       " 'nishikori held serve throughout kukushkin came qualifying',\n",
       " 'used first break point close first set going second wrapping win first match point',\n",
       " 'verdasco anderson hit nine aces opening set',\n",
       " 'spaniard broke anderson twice second get another chance south african serve final set',\n",
       " 'federer first broke tour two decades ago since gone enjoy glittering career',\n",
       " 'time grand slam winner chasing th atp title swiss indoors week faces jan lennard struff second round thursday pm bst',\n",
       " 'davenport enjoyed success late third final major tournament win came australian open',\n",
       " 'claims mentality professional tennis players slowly began change new millennium',\n",
       " 'seems pretty friendly right said davenport',\n",
       " 'think really nice environment great atmosphere especially veteran players helping younger players',\n",
       " 'pleasant atmosphere say around locker rooms',\n",
       " 'felt like best weeks get know players playing fed cup weeks olympic weeks necessarily tournaments',\n",
       " 'even though maybe smaller teams still think kept quite bit',\n",
       " 'always really feel like mid years huge shift attitudes top players friendly giving lot players like roger coming',\n",
       " 'felt like really kind changed people little bit definitely lot quiet started become better',\n",
       " 'meanwhile federer hoping improve service game hunts ninth swiss indoors title week',\n",
       " 'serve well first round opponent filip kranjovic federer said',\n",
       " 'think misfiring corners hitting lines enough',\n",
       " 'clearly make life difficult still break points things could ended quickly today even though best serve percentage stats',\n",
       " 'maybe exactly caught eventually',\n",
       " 'getting used',\n",
       " 'first rounds tricky',\n",
       " 'nadal played tennis since forced retire us open semi finals juan martin del porto knee injury',\n",
       " 'world forced miss spain davis cup clash france asian hard court season',\n",
       " 'atp world tour finals due begin next month nadal ready prove fitness season ending event arena',\n",
       " 'nadal flew paris friday footage paris masters official twitter account shows spaniard smiling strides onto court practice',\n",
       " 'paris masters draw made nadal start campaign tuesday wednesday either fernando verdasco jeremy chardy',\n",
       " 'nadal could play defending champion jack sock third round potential quarter final either borna coric dominic thiem',\n",
       " 'nadal appearance paris big boost tournament organisers could see roger federer withdraw',\n",
       " 'federer action swiss indoors basel reaches final could pull paris bid stay fresh london',\n",
       " 'stands federer draw scheduled face either former world milos raonic jo wilfried tsonga second round',\n",
       " 'federer projected route paris final could also lead matches kevin anderson novak djokovic',\n",
       " 'djokovic could play marco cecchinato second round',\n",
       " 'british kyle edmund th seed paris get underway round two either karen khachanov filip krajinovic',\n",
       " 'tennis giveth tennis taketh away',\n",
       " 'end season finally sight many players defending losing huge chunks points singapore zhuhai london podcast co hosts nina pantic irina falconi discuss art defending points',\n",
       " 'secret jack sock struggled singles court year record',\n",
       " 'could lose points next weeks instead focusing negative perspective',\n",
       " 'let also forget two grand slam doubles triumphs season',\n",
       " 'two players stefanos tsitsipas kyle edmund first career atp titles last week',\n",
       " 'big deal never forget first',\n",
       " 'irina looks back wta title win bogota tells unforgettable story semifinal drama',\n",
       " 'singapore one biggest storylines aside matches course court coaching debate',\n",
       " 'nina irina give opinions coaching look like future tours',\n",
       " 'federer swiss indoors last week beating romanian qualifier marius copil final',\n",
       " 'year old claimed th atp title hunting century french capital week',\n",
       " 'federer handed difficult draw could could come across kevin anderson novak djokovic rafael nadal latter rounds',\n",
       " 'first time grand slam winner wants train paris masters court afternoon deciding whether appear opening match either milos raonic jo wilfried tsonga',\n",
       " 'monday free look feel federer said winning swiss indoors',\n",
       " 'tuesday fly paris train afternoon ready first match wednesday night',\n",
       " 'felt good week better every day',\n",
       " 'also impression stage might better play matches train',\n",
       " 'long fear injury play',\n",
       " 'federer success basel last week ninth time hometown tournament',\n",
       " 'delighted watched family friends purchased tickets final dearest',\n",
       " 'children parents sister team federer added',\n",
       " 'always emotional thank team',\n",
       " 'sometimes tilts emotions sometimes stumble',\n",
       " 'means world',\n",
       " 'makes incredibly happy win home tournament make people happy',\n",
       " 'know maybe last title today try lot absorb enjoy moments much consciously',\n",
       " 'maybe celebrate last title',\n",
       " 'touching moments seeing ball children standing ovations familiar faces audience',\n",
       " 'always easy last weeks']"
      ]
     },
     "execution_count": 129,
     "metadata": {},
     "output_type": "execute_result"
    }
   ],
   "source": [
    "clean_sentences"
   ]
  },
  {
   "cell_type": "code",
   "execution_count": 130,
   "metadata": {},
   "outputs": [],
   "source": [
    "# Vector Representation of Sentences\n",
    "# Extract word vectors\n",
    "word_embeddings = {}\n",
    "f = open('D:\\DataScience\\TextSummerizationUsingSentenceEmbedding\\TextRank-TextSummerization\\Globe6B\\glove.6B.100d.txt', encoding='utf-8')\n",
    "for line in f:\n",
    "   # print(line)\n",
    "    values = line.split()\n",
    "    word = values[0]\n",
    "    #print(word)\n",
    "    coefs = np.asarray(values[1:], dtype='float32')\n",
    "    #print(coefs)\n",
    "    word_embeddings[word] = coefs\n",
    "f.close()"
   ]
  },
  {
   "cell_type": "code",
   "execution_count": 131,
   "metadata": {},
   "outputs": [],
   "source": [
    "#word_embeddings"
   ]
  },
  {
   "cell_type": "code",
   "execution_count": 136,
   "metadata": {},
   "outputs": [],
   "source": [
    "sentence_vectors = []\n",
    "for i in clean_sentences:\n",
    "    if len(i) != 0:\n",
    "        v = sum([word_embeddings.get(w, np.zeros((100,))) for w in i.split()])/(len(i.split())+0.001)\n",
    "    else:\n",
    "        v = np.zeros((100,))\n",
    "    sentence_vectors.append(v)"
   ]
  },
  {
   "cell_type": "code",
   "execution_count": 137,
   "metadata": {},
   "outputs": [
    {
     "data": {
      "text/plain": [
       "array([ 5.14825583e-02,  1.10544682e-01,  6.94999397e-01,  1.89168096e-01,\n",
       "       -9.58077684e-02,  3.20288986e-01,  2.70662010e-01,  5.42440832e-01,\n",
       "       -3.05938005e-01, -1.56364068e-01,  3.70127618e-01,  8.09492469e-02,\n",
       "        8.41393881e-03,  2.47571543e-01, -3.69342804e-01, -7.61044994e-02,\n",
       "        8.08582604e-02,  2.30643645e-01, -2.70402402e-01,  5.13828397e-01,\n",
       "       -6.12548441e-02,  3.87900352e-01,  1.03121363e-01,  7.72494674e-01,\n",
       "        2.59960234e-01, -7.96069205e-02,  1.42143592e-01, -9.62644577e-01,\n",
       "        7.54904330e-01,  6.03260659e-02, -4.58570123e-01,  2.36780301e-01,\n",
       "        2.29152635e-01, -1.56453326e-01,  3.97632688e-01, -2.32720934e-02,\n",
       "       -5.05520999e-01,  4.13252831e-01, -2.85759270e-01, -1.35231465e-01,\n",
       "       -1.37098104e-01, -1.48972601e-01,  3.37537557e-01, -3.49540442e-01,\n",
       "        1.53484434e-01, -2.33341649e-01, -1.98460802e-01, -1.27821520e-01,\n",
       "        5.08063912e-01, -3.68636876e-01, -2.28472307e-01, -3.15306723e-01,\n",
       "        1.36149466e-01,  2.22507194e-01,  1.19500056e-01, -1.71007359e+00,\n",
       "       -1.04403630e-01,  3.45346779e-01,  5.54419458e-01,  7.91236103e-01,\n",
       "       -2.63593912e-01,  5.01183808e-01, -1.54918820e-01,  2.39762396e-01,\n",
       "       -4.94388118e-02, -1.39404953e-01, -6.96142530e-03,  4.52243447e-01,\n",
       "        1.44498184e-01, -1.88242078e-01,  1.62694290e-01,  2.51032356e-02,\n",
       "       -1.29925504e-01, -2.16523811e-01, -1.39851749e-01,  1.79708660e-01,\n",
       "        4.75623786e-01,  6.25944212e-02, -1.11897260e-01, -1.08534172e-01,\n",
       "        6.22914493e-01, -2.60313332e-01, -1.83883741e-01,  1.65396854e-02,\n",
       "       -1.04412448e+00, -3.77867967e-01, -6.96135521e-01,  2.54875660e-01,\n",
       "       -2.14379832e-01, -6.60440326e-02, -3.04694414e-01, -2.49966215e-02,\n",
       "        3.12481433e-01,  1.38415188e-01,  1.15484960e-01,  9.44008352e-04,\n",
       "       -3.47184688e-01, -5.04137203e-02,  3.52187961e-01,  5.41942239e-01],\n",
       "      dtype=float32)"
      ]
     },
     "execution_count": 137,
     "metadata": {},
     "output_type": "execute_result"
    }
   ],
   "source": [
    "sentence_vectors[0]"
   ]
  },
  {
   "cell_type": "code",
   "execution_count": 138,
   "metadata": {},
   "outputs": [],
   "source": [
    "### Similarity matrix prep...\n",
    "#The next step is to find similarities between the sentences, and we will use the cosine similarity approach for this challenge. Let’s create an empty similarity matrix for this task and populate it with cosine similarities of the sentences.\n",
    "# similarity matrix\n",
    "sim_mat = np.zeros([len(sentences), len(sentences)])"
   ]
  },
  {
   "cell_type": "code",
   "execution_count": 139,
   "metadata": {},
   "outputs": [],
   "source": [
    "# We will use Cosine Similarity to compute the similarity between a pair of sentences.\n",
    "from sklearn.metrics.pairwise import cosine_similarity"
   ]
  },
  {
   "cell_type": "code",
   "execution_count": 140,
   "metadata": {},
   "outputs": [],
   "source": [
    "for i in range(len(sentences)):\n",
    "    for j in range(len(sentences)):\n",
    "        if i != j:\n",
    "            sim_mat[i][j] = cosine_similarity(sentence_vectors[i].reshape(1,100), sentence_vectors[j].reshape(1,100))[0,0]"
   ]
  },
  {
   "cell_type": "code",
   "execution_count": 141,
   "metadata": {},
   "outputs": [
    {
     "data": {
      "text/plain": [
       "0.0"
      ]
     },
     "execution_count": 141,
     "metadata": {},
     "output_type": "execute_result"
    }
   ],
   "source": [
    "sim_mat[0][0]"
   ]
  },
  {
   "cell_type": "code",
   "execution_count": 142,
   "metadata": {},
   "outputs": [],
   "source": [
    "## Applying page rank algo....\n",
    "#Before proceeding further, let’s convert the similarity matrix sim_mat into a graph. The nodes of this graph will represent the sentences and the edges will represent the similarity scores between the sentences. On this graph, we will apply the PageRank algorithm to arrive at the sentence rankings.\n",
    "import networkx as nx\n",
    "\n",
    "nx_graph = nx.from_numpy_array(sim_mat)\n",
    "scores = nx.pagerank(nx_graph)"
   ]
  },
  {
   "cell_type": "code",
   "execution_count": 143,
   "metadata": {},
   "outputs": [],
   "source": [
    "## summary extraction...\n",
    "ranked_sentences = sorted(((scores[i],s) for i,s in enumerate(sentences)), reverse=True)"
   ]
  },
  {
   "cell_type": "code",
   "execution_count": 144,
   "metadata": {},
   "outputs": [
    {
     "name": "stdout",
     "output_type": "stream",
     "text": [
      "When I'm on the courts or when I'm on the court playing, I'm a competitor and I want to beat every single person whether they're in the locker room or across the net.So I'm not the one to strike up a conversation about the weather and know that in the next few minutes I have to go and try to win a tennis match.\n",
      "Major players feel that a big event in late November combined with one in January before the Australian Open will mean too much tennis and too little rest.\n",
      "Speaking at the Swiss Indoors tournament where he will play in Sundays final against Romanian qualifier Marius Copil, the world number three said that given the impossibly short time frame to make a decision, he opted out of any commitment.\n",
      "\"I felt like the best weeks that I had to get to know players when I was playing were the Fed Cup weeks or the Olympic weeks, not necessarily during the tournaments.\n",
      "Currently in ninth place, Nishikori with a win could move to within 125 points of the cut for the eight-man event in London next month.\n",
      "He used his first break point to close out the first set before going up 3-0 in the second and wrapping up the win on his first match point.\n",
      "The Spaniard broke Anderson twice in the second but didn't get another chance on the South African's serve in the final set.\n",
      "\"We also had the impression that at this stage it might be better to play matches than to train.\n",
      "The competition is set to feature 18 countries in the November 18-24 finals in Madrid next year, and will replace the classic home-and-away ties played four times per year for decades.\n",
      "Federer said earlier this month in Shanghai in that his chances of playing the Davis Cup were all but non-existent.\n"
     ]
    }
   ],
   "source": [
    "# Extract top 10 sentences as the summary\n",
    "for i in range(10):\n",
    "    print(ranked_sentences[i][1])"
   ]
  },
  {
   "cell_type": "code",
   "execution_count": null,
   "metadata": {},
   "outputs": [],
   "source": []
  }
 ],
 "metadata": {
  "kernelspec": {
   "display_name": "Python 3",
   "language": "python",
   "name": "python3"
  },
  "language_info": {
   "codemirror_mode": {
    "name": "ipython",
    "version": 3
   },
   "file_extension": ".py",
   "mimetype": "text/x-python",
   "name": "python",
   "nbconvert_exporter": "python",
   "pygments_lexer": "ipython3",
   "version": "3.6.4"
  }
 },
 "nbformat": 4,
 "nbformat_minor": 2
}
